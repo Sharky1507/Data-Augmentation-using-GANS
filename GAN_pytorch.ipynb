{
  "cells": [
    {
      "cell_type": "markdown",
      "metadata": {
        "id": "wZpcRWBiGHh7"
      },
      "source": [
        "# Project: Dataset Augmentation Using GANs\n",
        "##  Getting Started\n",
        "\n",
        "###  Import the Libraries"
      ]
    },
    {
      "cell_type": "code",
      "execution_count": 2,
      "metadata": {
        "id": "qtC0DZ9Vqwvi"
      },
      "outputs": [],
      "source": [
        "import time\n",
        "import torch\n",
        "from torch import nn\n",
        "import matplotlib.pyplot as plt\n",
        "from matplotlib import rcParams\n",
        "from IPython import display\n",
        "%matplotlib inline"
      ]
    },
    {
      "cell_type": "markdown",
      "metadata": {
        "id": "ivYEhgTAsEWR"
      },
      "source": [
        "### Task 2: Create the Data\n",
        "#### Create dataset"
      ]
    },
    {
      "cell_type": "code",
      "execution_count": 3,
      "metadata": {
        "id": "IsEcCK7CsIOG"
      },
      "outputs": [],
      "source": [
        "X = torch.normal(0.0, 1, (1000, 2))\n",
        "A = torch.tensor([[1, 2], [-0.1, 0.5]])\n",
        "b = torch.tensor([1, 2])\n",
        "data = torch.matmul(X, A) + b"
      ]
    },
    {
      "cell_type": "markdown",
      "metadata": {
        "id": "ZRcbTzW4sHSv"
      },
      "source": [
        "#### Display dataset"
      ]
    },
    {
      "cell_type": "code",
      "execution_count": 4,
      "metadata": {
        "colab": {
          "base_uri": "https://localhost:8080/",
          "height": 283
        },
        "id": "5M8IgkMUsPIZ",
        "outputId": "aa20432e-216f-4859-c458-960eec4045f8"
      },
      "outputs": [
        {
          "data": {
            "text/plain": [
              "<matplotlib.collections.PathCollection at 0x7f088797c550>"
            ]
          },
          "execution_count": 4,
          "metadata": {},
          "output_type": "execute_result"
        },
        {
          "data": {
            "image/png": "[encoded data removed]",
            "text/plain": [
              "<Figure size 640x480 with 1 Axes>"
            ]
          },
          "metadata": {},
          "output_type": "display_data"
        }
      ],
      "source": [
        "plt.scatter(data[:100, 0].detach().numpy(), data[:100, 1].detach().numpy())"
      ]
    },
    {
      "cell_type": "markdown",
      "metadata": {
        "id": "8_cJMHPecltD"
      },
      "source": [
        "#### Creating Dataset Iterateables"
      ]
    },
    {
      "cell_type": "code",
      "execution_count": 5,
      "metadata": {
        "id": "5wmfxXfMsdnd"
      },
      "outputs": [],
      "source": [
        "batch_size = 8\n",
        "dataset = torch.utils.data.TensorDataset(data)\n",
        "data_iter = torch.utils.data.DataLoader(dataset, batch_size, shuffle=True)"
      ]
    },
    {
      "cell_type": "markdown",
      "metadata": {
        "id": "dJjMcY7OHbrI"
      },
      "source": [
        "##  The Model\n",
        "###  Generators and Discriminators"
      ]
    },
    {
      "cell_type": "markdown",
      "metadata": {
        "id": "yFLba6PprM5h"
      },
      "source": [
        "#### Generator Neural Net"
      ]
    },
    {
      "cell_type": "code",
      "execution_count": 6,
      "metadata": {
        "id": "JKLNeW-Wqxo2"
      },
      "outputs": [],
      "source": [
        "nnet_Gen = nn.Sequential(nn.Linear(2, 2))"
      ]
    },
    {
      "cell_type": "markdown",
      "metadata": {
        "id": "jwI9ar3ArQLD"
      },
      "source": [
        "#### Discriminator Neural Net"
      ]
    },
    {
      "cell_type": "code",
      "execution_count": 7,
      "metadata": {
        "id": "2CECdQEKq3GJ"
      },
      "outputs": [],
      "source": [
        "nnet_Disc = nn.Sequential(\n",
        "  nn.Linear(2, 5), nn.Tanh(),\n",
        "  nn.Linear(5, 3), nn.Tanh(),\n",
        "  nn.Linear(3, 1))"
      ]
    },
    {
      "cell_type": "markdown",
      "metadata": {
        "id": "7T3zOghSrTVD"
      },
      "source": [
        "### Discriminator Updates"
      ]
    },
    {
      "cell_type": "code",
      "execution_count": 8,
      "metadata": {
        "id": "Ka6jX_SAq5Ww"
      },
      "outputs": [],
      "source": [
        "def update_D(X, Z, nnet_D, nnet_G, loss, trainer_D):\n",
        "    batch_size = X.shape[0]\n",
        "    ones = torch.ones((batch_size,), device=X.device)\n",
        "    zeros = torch.zeros((batch_size,), device=X.device)\n",
        "    trainer_D.zero_grad()\n",
        "    real_Y = nnet_D(X)\n",
        "    synth_X = nnet_G(Z)\n",
        "    synth_Y = nnet_D(synth_X.detach())\n",
        "    loss_D = (loss(real_Y, ones.reshape(real_Y.shape)) +\n",
        "              loss(synth_Y, zeros.reshape(synth_Y.shape))) / 2\n",
        "    loss_D.backward()\n",
        "    trainer_D.step()\n",
        "    return loss_D"
      ]
    },
    {
      "cell_type": "markdown",
      "metadata": {
        "id": "JHg8l5ORrbH5"
      },
      "source": [
        "###  Generator Updates"
      ]
    },
    {
      "cell_type": "code",
      "execution_count": 9,
      "metadata": {
        "id": "Xlw3SAhoq8CQ"
      },
      "outputs": [],
      "source": [
        "def update_G(Z, nnet_D, nnet_G, loss, trainer_G):\n",
        "    batch_size = Z.shape[0]\n",
        "    ones = torch.ones((batch_size,), device=Z.device)\n",
        "    trainer_G.zero_grad()\n",
        "    synth_X = nnet_G(Z)\n",
        "    synth_Y = nnet_D(synth_X)\n",
        "    loss_G = loss(synth_Y, ones.reshape(synth_Y.shape))\n",
        "    loss_G.backward()\n",
        "    trainer_G.step()\n",
        "    return loss_G"
      ]
    },
    {
      "cell_type": "markdown",
      "metadata": {
        "id": "Y3sJi_tfrm0b"
      },
      "source": [
        "##  The Train Function\n",
        "### Initialize the Parameters"
      ]
    },
    {
      "cell_type": "code",
      "execution_count": 10,
      "metadata": {
        "id": "AAdqFhlWY4AS"
      },
      "outputs": [],
      "source": [
        "def init_params(Discriminator, Generator, lr_D, lr_G):\n",
        "    loss = nn.BCEWithLogitsLoss(reduction='sum')\n",
        "    for w in Discriminator.parameters():\n",
        "        nn.init.normal_(w, 0, 0.02)\n",
        "    for w in Generator.parameters():\n",
        "        nn.init.normal_(w, 0, 0.02)\n",
        "    trainer_D = torch.optim.Adam(Discriminator.parameters(), lr=lr_D)\n",
        "    trainer_G = torch.optim.Adam(Generator.parameters(), lr=lr_G)\n",
        "    fig, axes = plt.subplots(2, 1, figsize=(5, 9))\n",
        "    loss_D = []\n",
        "    loss_G = []\n",
        "\n",
        "    return loss, trainer_D, trainer_G, fig, axes, loss_D, loss_G"
      ]
    },
    {
      "cell_type": "markdown",
      "metadata": {
        "id": "DRnAGdnYbg3l"
      },
      "source": [
        "### Compute the Losses"
      ]
    },
    {
      "cell_type": "code",
      "execution_count": 11,
      "metadata": {
        "id": "S7QS8Bfpbhoj"
      },
      "outputs": [],
      "source": [
        "def compute_losses(X, net_D, net_G, loss, trainer_D, trainer_G, batch_size, latent_dim, data_iter):\n",
        "    metrics = [0.0]*3 \n",
        "    for (X,) in data_iter:\n",
        "        batch_size = X.shape[0]\n",
        "        Z = torch.normal(0, 1, size=(batch_size, latent_dim))\n",
        "        metric = [update_D(X, Z, net_D, net_G, loss, trainer_D),\n",
        "                    update_G(Z, net_D, net_G, loss, trainer_G),\n",
        "                    batch_size]\n",
        "        metrics = [sum(i) for i in zip(metric, metrics)]\n",
        "\n",
        "    return metrics"
      ]
    },
    {
      "cell_type": "markdown",
      "metadata": {
        "id": "o-OkKK9aIQFB"
      },
      "source": [
        "### Display Generated Distributions"
      ]
    },
    {
      "cell_type": "code",
      "execution_count": 12,
      "metadata": {
        "id": "x5QwoXwXIOlo"
      },
      "outputs": [],
      "source": [
        "def display_gen_dist(net_G, axes, latent_dim, data):\n",
        "    Z = torch.normal(0, 1, size=(100, latent_dim))\n",
        "    synth_X = net_G(Z).detach().numpy()\n",
        "    axes[1].cla()\n",
        "    axes[1].scatter(data[:, 0], data[:, 1])\n",
        "    axes[1].scatter(synth_X[:, 0], synth_X[:, 1])\n",
        "    axes[1].legend(['real', 'generated'])"
      ]
    },
    {
      "cell_type": "markdown",
      "metadata": {
        "id": "_T6FNeGUK15X"
      },
      "source": [
        "### Display the losses"
      ]
    },
    {
      "cell_type": "code",
      "execution_count": 13,
      "metadata": {
        "id": "If7ywF9tK2iA"
      },
      "outputs": [],
      "source": [
        "def display_losses(metrics, loss_D, loss_G, axes, fig, epoch):\n",
        "    D = metrics[0]/metrics[2]\n",
        "    loss_D.append(D.detach())\n",
        "    G = metrics[1]/metrics[2]\n",
        "    loss_G.append(G.detach())\n",
        "    axes[0].plot(range(epoch+1), loss_D, c=\"blue\")\n",
        "    axes[0].plot(range(epoch+1), loss_G, c=\"green\")\n",
        "    axes[0].legend(['Discriminator loss', 'Generator loss'])\n",
        "    display.display(fig)\n",
        "    display.clear_output(wait=True)\n",
        "\n",
        "    return loss_D, loss_G"
      ]
    },
    {
      "cell_type": "markdown",
      "metadata": {
        "id": "HVi7bJ4HRvFN"
      },
      "source": [
        "### Create the Training Function"
      ]
    },
    {
      "cell_type": "code",
      "execution_count": 14,
      "metadata": {
        "id": "l8PkA7LArBv6"
      },
      "outputs": [],
      "source": [
        "def train(net_D, net_G, data_iter, num_epochs, lr_D, lr_G, latent_dim, data):\n",
        "    # Start timer\n",
        "    tik = time.perf_counter()\n",
        "    # Init variables\n",
        "    loss, trainer_D, trainer_G, fig, axes, loss_D, loss_G = init_params(net_D, net_G, lr_D, lr_G)\n",
        "    for epoch in range(num_epochs):\n",
        "        # Train one epoch\n",
        "        metrics = compute_losses(X, net_D, net_G, loss, trainer_D, trainer_G, batch_size, latent_dim, data_iter)\n",
        "        # Visualize generated examples\n",
        "        display_gen_dist(net_G, axes, latent_dim, data)\n",
        "        # Show the losses\n",
        "        loss_D, loss_G = display_losses(metrics, loss_D, loss_G, axes, fig, epoch)\n",
        "    # End timer\n",
        "    tok = time.perf_counter()\n",
        "    # Display stats\n",
        "    print(f'loss_D {loss_D[-1]}, loss_G {loss_G[-1]}, {(metrics[2]*num_epochs) / (tok-tik):.1f} examples/sec')"
      ]
    },
    {
      "cell_type": "markdown",
      "metadata": {
        "id": "S9RtdrnFrr5c"
      },
      "source": [
        "#### Train the Model"
      ]
    },
    {
      "cell_type": "code",
      "execution_count": 15,
      "metadata": {
        "colab": {
          "base_uri": "https://localhost:8080/",
          "height": 555
        },
        "id": "xU0JKCe6rErU",
        "outputId": "e8d252d8-c99b-4436-d19d-46b62ff0e21c"
      },
      "outputs": [
        {
          "name": "stdout",
          "output_type": "stream",
          "text": [
            "loss_D 0.6931558847427368, loss_G 0.693122386932373, 1558.6 examples/sec\n"
          ]
        },
        {
          "data": {
            "image/png": "[encoded data removed]",
            "text/plain": [
              "<Figure size 500x900 with 2 Axes>"
            ]
          },
          "metadata": {},
          "output_type": "display_data"
        }
      ],
      "source": [
        "lr_D, lr_G, latent_dim, num_epochs = 0.05, 0.005, 2, 30\n",
        "train(nnet_Disc, nnet_Gen, data_iter, num_epochs, lr_D, lr_G, latent_dim, data[:100].detach().numpy())"
      ]
    },
    {
      "cell_type": "markdown",
      "metadata": {},
      "source": [
        "# End"
      ]
    }
  ],
  "metadata": {
    "colab": {
      "provenance": []
    },
    "kernelspec": {
      "display_name": "Python 3",
      "language": "python",
      "name": "python3"
    },
    "language_info": {
      "codemirror_mode": {
        "name": "ipython",
        "version": 3
      },
      "file_extension": ".py",
      "mimetype": "text/x-python",
      "name": "python",
      "nbconvert_exporter": "python",
      "pygments_lexer": "ipython3",
      "version": "3.8.10"
    },
    "vscode": {
      "interpreter": {
        "hash": "e7370f93d1d0cde622a1f8e1c04877d8463912d04d973331ad4851f04de6915a"
      }
    }
  },
  "nbformat": 4,
  "nbformat_minor": 0
}
